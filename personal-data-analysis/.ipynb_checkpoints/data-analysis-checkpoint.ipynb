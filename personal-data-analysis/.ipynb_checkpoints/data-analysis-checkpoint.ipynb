{
 "cells": [
  {
   "cell_type": "code",
   "execution_count": 1,
   "metadata": {},
   "outputs": [],
   "source": [
    "import pandas as pd\n",
    "import matplotlib.pyplot as plt\n",
    "import csv"
   ]
  },
  {
   "cell_type": "code",
   "execution_count": 2,
   "metadata": {},
   "outputs": [],
   "source": [
    "df = pd.read_csv('ELG-IMDB.csv')"
   ]
  },
  {
   "cell_type": "code",
   "execution_count": 3,
   "metadata": {},
   "outputs": [
    {
     "name": "stdout",
     "output_type": "stream",
     "text": [
      "          Const  Your Rating  Date Rated                           Title  \\\n",
      "0     tt0198781            6  2025-03-10                  Monsters, Inc.   \n",
      "1     tt1453405            7  2025-03-10             Monsters University   \n",
      "2     tt2294629            7  2025-03-10                          Frozen   \n",
      "3     tt0382932            7  2025-03-10                     Ratatouille   \n",
      "4    tt22022452            7  2025-03-10                    Inside Out 2   \n",
      "..          ...          ...         ...                             ...   \n",
      "146   tt0038854            9  2024-10-11  The Postman Always Rings Twice   \n",
      "147   tt0114814            7  2024-10-11              The Usual Suspects   \n",
      "148   tt0099685           10  2024-10-10                      Goodfellas   \n",
      "149   tt0435761            8  2024-04-25                     Toy Story 3   \n",
      "150   tt0044741            9  2024-04-24                           Ikiru   \n",
      "\n",
      "                     Original Title                                    URL  \\\n",
      "0                    Monsters, Inc.   https://www.imdb.com/title/tt0198781   \n",
      "1               Monsters University   https://www.imdb.com/title/tt1453405   \n",
      "2                            Frozen   https://www.imdb.com/title/tt2294629   \n",
      "3                       Ratatouille   https://www.imdb.com/title/tt0382932   \n",
      "4                      Inside Out 2  https://www.imdb.com/title/tt22022452   \n",
      "..                              ...                                    ...   \n",
      "146  The Postman Always Rings Twice   https://www.imdb.com/title/tt0038854   \n",
      "147              The Usual Suspects   https://www.imdb.com/title/tt0114814   \n",
      "148                      GoodFellas   https://www.imdb.com/title/tt0099685   \n",
      "149                     Toy Story 3   https://www.imdb.com/title/tt0435761   \n",
      "150                           Ikiru   https://www.imdb.com/title/tt0044741   \n",
      "\n",
      "    Title Type  IMDb Rating  Runtime (mins)  Year  \\\n",
      "0        Movie          8.1              92  2001   \n",
      "1        Movie          7.2             104  2013   \n",
      "2        Movie          7.4             102  2013   \n",
      "3        Movie          8.1             111  2007   \n",
      "4        Movie          7.5              96  2024   \n",
      "..         ...          ...             ...   ...   \n",
      "146      Movie          7.4             113  1946   \n",
      "147      Movie          8.5             106  1995   \n",
      "148      Movie          8.7             145  1990   \n",
      "149      Movie          8.3             103  2010   \n",
      "150      Movie          8.3             143  1952   \n",
      "\n",
      "                                                Genres  Num Votes  \\\n",
      "0        Animation, Adventure, Comedy, Family, Fantasy    1019195   \n",
      "1        Animation, Comedy, Adventure, Family, Fantasy     405785   \n",
      "2    Animation, Musical, Family, Fantasy, Adventure...     684020   \n",
      "3        Animation, Comedy, Family, Fantasy, Adventure     874873   \n",
      "4    Animation, Adventure, Comedy, Drama, Family, F...     209419   \n",
      "..                                                 ...        ...   \n",
      "146  Crime, Thriller, Mystery, Romance, Film-Noir, ...      23720   \n",
      "147                    Drama, Crime, Mystery, Thriller    1182407   \n",
      "148                            Biography, Crime, Drama    1313152   \n",
      "149      Animation, Adventure, Comedy, Family, Fantasy     924510   \n",
      "150                                              Drama      95179   \n",
      "\n",
      "    Release Date                                Directors  \n",
      "0     2001-11-23  Pete Docter,David Silverman,Lee Unkrich  \n",
      "1     2013-06-21                              Dan Scanlon  \n",
      "2     2013-11-27                  Chris Buck,Jennifer Lee  \n",
      "3     2007-06-27                    Brad Bird,Jan Pinkava  \n",
      "4     2024-06-14                              Kelsey Mann  \n",
      "..           ...                                      ...  \n",
      "146   1946-09-06                              Tay Garnett  \n",
      "147   1995-08-16                             Bryan Singer  \n",
      "148   1990-09-21                          Martin Scorsese  \n",
      "149   2010-06-18                              Lee Unkrich  \n",
      "150   1956-03-25                           Akira Kurosawa  \n",
      "\n",
      "[151 rows x 14 columns]\n"
     ]
    }
   ],
   "source": [
    "print(df)"
   ]
  },
  {
   "cell_type": "code",
   "execution_count": null,
   "metadata": {},
   "outputs": [],
   "source": []
  }
 ],
 "metadata": {
  "kernelspec": {
   "display_name": "Python 3 (ipykernel)",
   "language": "python",
   "name": "python3"
  },
  "language_info": {
   "codemirror_mode": {
    "name": "ipython",
    "version": 3
   },
   "file_extension": ".py",
   "mimetype": "text/x-python",
   "name": "python",
   "nbconvert_exporter": "python",
   "pygments_lexer": "ipython3",
   "version": "3.10.9"
  }
 },
 "nbformat": 4,
 "nbformat_minor": 2
}
